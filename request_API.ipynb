{
  "cells": [
    {
      "cell_type": "code",
      "execution_count": 4,
      "metadata": {
        "colab": {
          "base_uri": "https://localhost:8080/"
        },
        "id": "qhL_bY2jGLHJ",
        "outputId": "0580ccba-5cdf-41b0-a32f-8b60f44377b4"
      },
      "outputs": [
        {
          "name": "stdout",
          "output_type": "stream",
          "text": [
            "{'data': [{'data-id': 'USD', 'value': '62.05'}, {'data-id': 'EUR', 'value': '66.56'}, {'data-id': 'GBP', 'value': '77.97'}, {'data-id': 'SAR', 'value': '16.54'}, {'data-id': 'KWD', 'value': '201.29'}, {'data-id': 'AED', 'value': '16.89'}, {'data-id': 'QAR', 'value': '17.04'}, {'data-id': 'JOD', 'value': '87.51'}, {'data-id': 'BHD', 'value': '164.63'}, {'data-id': 'OMR', 'value': '161.19'}, {'data-id': 'CHF', 'value': '70.05'}, {'data-id': 'CAD', 'value': '45.82'}, {'data-id': 'AUD', 'value': '40.28'}, {'data-id': 'LYD', 'value': '12.78'}, {'data-id': 'CNY', 'value': '8.64'}]}\n"
          ]
        }
      ],
      "source": [
        "url = 'http://127.0.0.1:5400/get_coins_price'\n",
        "url2 = 'http://127.0.0.1:5400'\n",
        "import requests\n",
        "response = requests.get(url\n",
        "                       )\n",
        "# print(response)\n",
        "print(response.json())"
      ]
    }
  ],
  "metadata": {
    "colab": {
      "provenance": []
    },
    "kernelspec": {
      "display_name": "Python 3",
      "name": "python3"
    },
    "language_info": {
      "codemirror_mode": {
        "name": "ipython",
        "version": 3
      },
      "file_extension": ".py",
      "mimetype": "text/x-python",
      "name": "python",
      "nbconvert_exporter": "python",
      "pygments_lexer": "ipython3",
      "version": "3.11.7"
    }
  },
  "nbformat": 4,
  "nbformat_minor": 0
}
