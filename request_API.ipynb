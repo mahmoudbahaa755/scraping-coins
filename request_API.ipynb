{
  "cells": [
    {
      "cell_type": "code",
      "execution_count": 1,
      "metadata": {
        "colab": {
          "base_uri": "https://localhost:8080/"
        },
        "id": "qhL_bY2jGLHJ",
        "outputId": "0580ccba-5cdf-41b0-a32f-8b60f44377b4"
      },
      "outputs": [
        {
          "name": "stdout",
          "output_type": "stream",
          "text": [
            "{'data': [{'USD': '62.25'}, {'EUR': '67.12'}, {'GBP': '78.43'}, {'SAR': '16.6'}, {'KWD': '202.14'}, {'AED': '16.95'}, {'QAR': '17.1'}, {'JOD': '87.79'}, {'BHD': '165.14'}, {'OMR': '161.71'}, {'CHF': '70.57'}, {'CAD': '46.14'}, {'AUD': '40.71'}, {'LYD': '12.86'}, {'CNY': '8.65'}], 'gold_data': [{'24K': '4099'}, {'22K': '3758'}, {'21K': '3590'}, {'18K': '3077'}]}\n"
          ]
        }
      ],
      "source": [
        "url = 'http://127.0.0.1:5400/get_coins_price'\n",
        "url2 = 'http://127.0.0.1:5400'\n",
        "import requests\n",
        "response = requests.get(url\n",
        "                       )\n",
        "# print(response)\n",
        "print(response.json())"
      ]
    }
  ],
  "metadata": {
    "colab": {
      "provenance": []
    },
    "kernelspec": {
      "display_name": "Python 3",
      "name": "python3"
    },
    "language_info": {
      "codemirror_mode": {
        "name": "ipython",
        "version": 3
      },
      "file_extension": ".py",
      "mimetype": "text/x-python",
      "name": "python",
      "nbconvert_exporter": "python",
      "pygments_lexer": "ipython3",
      "version": "3.11.7"
    }
  },
  "nbformat": 4,
  "nbformat_minor": 0
}
