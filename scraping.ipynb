{
 "cells": [
  {
   "cell_type": "code",
   "execution_count": 2,
   "metadata": {},
   "outputs": [
    {
     "name": "stdout",
     "output_type": "stream",
     "text": [
      "Title: <select class=\"from_currency_select form-control selectize\" id=\"currency\" name=\"from\" onchange=\"calculate()\" placeholder=\"من\">\n",
      "<option data-id=\"USD\" selected=\"selected\" value=\"62.1\">USD دولار أمريكي </option>\n",
      "<option data-id=\"EUR\" value=\"66.62\">EUR يورو </option>\n",
      "<option data-id=\"GBP\" value=\"78.01\">GBP جنيه استرليني </option>\n",
      "<option data-id=\"SAR\" value=\"16.56\">SAR ريال سعودي </option>\n",
      "<option data-id=\"KWD\" value=\"201.46\">KWD دينار كويتي </option>\n",
      "<option data-id=\"AED\" value=\"16.91\">AED درهم إماراتي </option>\n",
      "<option data-id=\"QAR\" value=\"17.06\">QAR ريال قطري </option>\n",
      "<option data-id=\"JOD\" value=\"87.58\">JOD دينار اردني </option>\n",
      "<option data-id=\"BHD\" value=\"164.76\">BHD دينار بحريني </option>\n",
      "<option data-id=\"OMR\" value=\"161.32\">OMR ريال عماني </option>\n",
      "<option data-id=\"CHF\" value=\"70.11\">CHF فرنك سويسري </option>\n",
      "<option data-id=\"CAD\" value=\"45.85\">CAD دولار كندي </option>\n",
      "<option data-id=\"AUD\" value=\"40.31\">AUD دولار استرالي </option>\n",
      "<option data-id=\"LYD\" value=\"12.79\">LYD دينار ليبي </option>\n",
      "<option data-id=\"CNY\" value=\"8.65\">CNY يوان صيني </option>\n",
      "</select>\n"
     ]
    }
   ],
   "source": [
    "import requests\n",
    "from bs4 import BeautifulSoup\n",
    "\n",
    "url = \"https://dollaregypt.com\"\n",
    "\n",
    "# Send a GET request to the URL\n",
    "response = requests.get(url)\n",
    "\n",
    "# Check if the request was successful\n",
    "if response.status_code == 200:\n",
    "    # Parse the HTML content\n",
    "    soup = BeautifulSoup(response.content, \"html.parser\")\n",
    "    \n",
    "    # Find the relevant data on the webpage\n",
    "    # For example, let's say we want to extract the title and the latest news\n",
    "    title = soup.find('select', id='currency')\n",
    "   \n",
    "    # latest_news = soup.find_all(\"option\").text.strip()\n",
    "    \n",
    "    print(\"Title:\", title)\n",
    "    # print(\"Latest News:\", latest_news)\n",
    "else:\n",
    "    print(\"Failed to retrieve the webpage. Status code:\", response.status_code)\n",
    "\n",
    "\n",
    "options = title.find_all('option')\n",
    "\n",
    "data = []\n",
    "for option in options:\n",
    "    currency_code = option['data-id']\n",
    "    value = option['value']\n",
    "    data.append({'data-id': currency_code, 'value': value})\n",
    "\n"
   ]
  },
  {
   "cell_type": "code",
   "execution_count": null,
   "metadata": {},
   "outputs": [],
   "source": []
  },
  {
   "cell_type": "code",
   "execution_count": null,
   "metadata": {},
   "outputs": [],
   "source": []
  },
  {
   "cell_type": "code",
   "execution_count": 7,
   "metadata": {},
   "outputs": [],
   "source": [
    "from flask import Flask, jsonify\n",
    "import requests\n",
    "from bs4 import BeautifulSoup\n",
    "\n",
    "app = Flask(__name__)\n",
    "data=[]\n",
    "def scrape_currency_options(url):\n",
    "    \n",
    "    # Send a GET request to the URL\n",
    "    response = requests.get(url)\n",
    "\n",
    "    # Check if the request was successful\n",
    "    if response.status_code == 200:\n",
    "        # Parse the HTML content\n",
    "        soup = BeautifulSoup(response.content, \"html.parser\")\n",
    "        \n",
    "        # Find the select element containing currency options\n",
    "        title = soup.find('select', id='currency')\n",
    "       \n",
    "        # Extract options and their attributes\n",
    "        options = title.find_all('option')\n",
    "\n",
    "        for option in options:\n",
    "            currency_code = option['data-id']\n",
    "            value = option['value']\n",
    "            data.append({'data-id': currency_code, 'value': value})\n",
    "\n",
    "        return data\n",
    "    else:\n",
    "        print(\"Failed to retrieve the webpage. Status code:\", response.status_code)\n",
    "        return None\n",
    "\n",
    "@app.route('/currency', methods=['GET'])\n",
    "def get_currency_data():\n",
    "    url = \"https://dollaregypt.com\"\n",
    "    currency_data = scrape_currency_options(url)\n",
    "    if currency_data:\n",
    "        return jsonify(currency_data)\n",
    "    else:\n",
    "        return jsonify({'error': 'Failed to retrieve currency data'}), 500\n",
    "\n",
    "\n"
   ]
  },
  {
   "cell_type": "code",
   "execution_count": 9,
   "metadata": {},
   "outputs": [
    {
     "name": "stdout",
     "output_type": "stream",
     "text": [
      " * Serving Flask app '__main__'\n",
      " * Debug mode: on\n"
     ]
    },
    {
     "name": "stderr",
     "output_type": "stream",
     "text": [
      "\u001b[31m\u001b[1mWARNING: This is a development server. Do not use it in a production deployment. Use a production WSGI server instead.\u001b[0m\n",
      " * Running on http://127.0.0.1:5001\n",
      "\u001b[33mPress CTRL+C to quit\u001b[0m\n",
      " * Restarting with stat\n",
      "0.00s - Debugger warning: It seems that frozen modules are being used, which may\n",
      "0.00s - make the debugger miss breakpoints. Please pass -Xfrozen_modules=off\n",
      "0.00s - to python to disable frozen modules.\n",
      "0.00s - Note: Debugging will proceed. Set PYDEVD_DISABLE_FILE_VALIDATION=1 to disable this validation.\n",
      "Traceback (most recent call last):\n",
      "  File \"<frozen runpy>\", line 198, in _run_module_as_main\n",
      "  File \"<frozen runpy>\", line 88, in _run_code\n",
      "  File \"/var/data/python/lib/python3.11/site-packages/ipykernel_launcher.py\", line 17, in <module>\n",
      "    app.launch_new_instance()\n",
      "  File \"/var/data/python/lib/python3.11/site-packages/traitlets/config/application.py\", line 1074, in launch_instance\n",
      "    app.initialize(argv)\n",
      "  File \"/var/data/python/lib/python3.11/site-packages/traitlets/config/application.py\", line 118, in inner\n",
      "    return method(app, *args, **kwargs)\n",
      "           ^^^^^^^^^^^^^^^^^^^^^^^^^^^^\n",
      "  File \"/var/data/python/lib/python3.11/site-packages/ipykernel/kernelapp.py\", line 692, in initialize\n",
      "    self.init_sockets()\n",
      "  File \"/var/data/python/lib/python3.11/site-packages/ipykernel/kernelapp.py\", line 331, in init_sockets\n",
      "    self.shell_port = self._bind_socket(self.shell_socket, self.shell_port)\n",
      "                      ^^^^^^^^^^^^^^^^^^^^^^^^^^^^^^^^^^^^^^^^^^^^^^^^^^^^^\n",
      "  File \"/var/data/python/lib/python3.11/site-packages/ipykernel/kernelapp.py\", line 253, in _bind_socket\n",
      "    return self._try_bind_socket(s, port)\n",
      "           ^^^^^^^^^^^^^^^^^^^^^^^^^^^^^^\n",
      "  File \"/var/data/python/lib/python3.11/site-packages/ipykernel/kernelapp.py\", line 229, in _try_bind_socket\n",
      "    s.bind(\"tcp://%s:%i\" % (self.ip, port))\n",
      "  File \"/var/data/python/lib/python3.11/site-packages/zmq/sugar/socket.py\", line 302, in bind\n",
      "    super().bind(addr)\n",
      "  File \"zmq/backend/cython/socket.pyx\", line 564, in zmq.backend.cython.socket.Socket.bind\n",
      "  File \"zmq/backend/cython/checkrc.pxd\", line 28, in zmq.backend.cython.checkrc._check_rc\n",
      "zmq.error.ZMQError: Address already in use (addr='tcp://127.0.0.1:9002')\n"
     ]
    },
    {
     "ename": "SystemExit",
     "evalue": "1",
     "output_type": "error",
     "traceback": [
      "An exception has occurred, use %tb to see the full traceback.\n",
      "\u001b[0;31mSystemExit\u001b[0m\u001b[0;31m:\u001b[0m 1\n"
     ]
    }
   ],
   "source": [
    "app.run(debug=True, port=5001)"
   ]
  },
  {
   "cell_type": "code",
   "execution_count": null,
   "metadata": {},
   "outputs": [],
   "source": [
    "import requests\n",
    "from bs4 import BeautifulSoup\n",
    "\n",
    "def scrape_currency_options(url):\n",
    "    \"\"\"\n",
    "    Scrapes currency options and their values from the given URL.\n",
    "\n",
    "    Args:\n",
    "    - url (str): The URL of the webpage to scrape.\n",
    "\n",
    "    Returns:\n",
    "    - List[dict]: A list of dictionaries containing currency code and value.\n",
    "    \"\"\"\n",
    "    # Send a GET request to the URL\n",
    "    response = requests.get(url)\n",
    "\n",
    "    # Check if the request was successful\n",
    "    if response.status_code == 200:\n",
    "        # Parse the HTML content\n",
    "        soup = BeautifulSoup(response.content, \"html.parser\")\n",
    "        \n",
    "        # Find the select element containing currency options\n",
    "        title = soup.find('select', id='currency')\n",
    "       \n",
    "        # Extract options and their attributes\n",
    "        options = title.find_all('option')\n",
    "\n",
    "        data = []\n",
    "        for option in options:\n",
    "            currency_code = option['data-id']\n",
    "            value = option['value']\n",
    "            data.append({'data-id': currency_code, 'value': value})\n",
    "\n",
    "        return data\n",
    "    else:\n",
    "        print(\"Failed to retrieve the webpage. Status code:\", response.status_code)\n",
    "        return None\n",
    "\n",
    "# Example usage:\n",
    "url = \"https://dollaregypt.com\"\n",
    "currency_data = scrape_currency_options(url)\n",
    "print(currency_data)\n"
   ]
  },
  {
   "cell_type": "code",
   "execution_count": 9,
   "metadata": {},
   "outputs": [
    {
     "name": "stdout",
     "output_type": "stream",
     "text": [
      "[{'data-id': 'USD', 'value': '62.1'}, {'data-id': 'EUR', 'value': '66.62'}, {'data-id': 'GBP', 'value': '78.01'}, {'data-id': 'SAR', 'value': '16.56'}, {'data-id': 'KWD', 'value': '201.46'}, {'data-id': 'AED', 'value': '16.91'}, {'data-id': 'QAR', 'value': '17.06'}, {'data-id': 'JOD', 'value': '87.58'}, {'data-id': 'BHD', 'value': '164.76'}, {'data-id': 'OMR', 'value': '161.32'}, {'data-id': 'CHF', 'value': '70.11'}, {'data-id': 'CAD', 'value': '45.85'}, {'data-id': 'AUD', 'value': '40.31'}, {'data-id': 'LYD', 'value': '12.79'}, {'data-id': 'CNY', 'value': '8.65'}]\n",
      "{'data-id': 'USD', 'value': '62.1'}\n",
      "{'data-id': 'EUR', 'value': '66.62'}\n",
      "{'data-id': 'GBP', 'value': '78.01'}\n",
      "{'data-id': 'SAR', 'value': '16.56'}\n",
      "{'data-id': 'KWD', 'value': '201.46'}\n",
      "{'data-id': 'AED', 'value': '16.91'}\n",
      "{'data-id': 'QAR', 'value': '17.06'}\n",
      "{'data-id': 'JOD', 'value': '87.58'}\n",
      "{'data-id': 'BHD', 'value': '164.76'}\n",
      "{'data-id': 'OMR', 'value': '161.32'}\n",
      "{'data-id': 'CHF', 'value': '70.11'}\n",
      "{'data-id': 'CAD', 'value': '45.85'}\n",
      "{'data-id': 'AUD', 'value': '40.31'}\n",
      "{'data-id': 'LYD', 'value': '12.79'}\n",
      "{'data-id': 'CNY', 'value': '8.65'}\n"
     ]
    }
   ],
   "source": []
  }
 ],
 "metadata": {
  "kernelspec": {
   "display_name": "Python 3",
   "language": "python",
   "name": "python3"
  },
  "language_info": {
   "codemirror_mode": {
    "name": "ipython",
    "version": 3
   },
   "file_extension": ".py",
   "mimetype": "text/x-python",
   "name": "python",
   "nbconvert_exporter": "python",
   "pygments_lexer": "ipython3",
   "version": "3.11.7"
  }
 },
 "nbformat": 4,
 "nbformat_minor": 2
}
